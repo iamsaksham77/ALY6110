{
  "nbformat": 4,
  "nbformat_minor": 0,
  "metadata": {
    "colab": {
      "provenance": []
    },
    "kernelspec": {
      "name": "python3",
      "display_name": "Python 3"
    }
  },
  "cells": [
    {
      "metadata": {
        "id": "sq8U3BtmhtRx"
      },
      "cell_type": "markdown",
      "source": [
        "\n",
        "# **Running Pyspark in Colab**\n",
        "\n",
        "To run spark in Colab, You need proper setup. Next cell will create required setup for running Spark/PySpark:"
      ]
    },
    {
      "cell_type": "code",
      "source": [
        "# innstall java\n",
        "!apt-get install openjdk-8-jdk-headless -qq > /dev/null\n",
        "\n",
        "# install spark (change the version number if needed)\n",
        "!wget -q https://archive.apache.org/dist/spark/spark-3.0.0/spark-3.0.0-bin-hadoop3.2.tgz\n",
        "\n",
        "# unzip the spark file to the current folder\n",
        "!tar xf spark-3.0.0-bin-hadoop3.2.tgz\n",
        "\n",
        "# set your spark folder to your system path environment.\n",
        "import os\n",
        "os.environ[\"JAVA_HOME\"] = \"/usr/lib/jvm/java-8-openjdk-amd64\"\n",
        "os.environ[\"SPARK_HOME\"] = \"/content/spark-3.0.0-bin-hadoop3.2\"\n",
        "\n",
        "\n",
        "# install findspark using pip\n",
        "!pip install -q findspark\n"
      ],
      "metadata": {
        "id": "j0VTrimTI_9O"
      },
      "execution_count": null,
      "outputs": []
    },
    {
      "cell_type": "code",
      "source": [],
      "metadata": {
        "id": "98BG_Fj5C64L"
      },
      "execution_count": null,
      "outputs": []
    },
    {
      "metadata": {
        "id": "9_Uz1NL4gHFx"
      },
      "cell_type": "code",
      "source": [
        "import findspark\n",
        "findspark.init()\n",
        "from pyspark.sql import SparkSession\n",
        "spark = SparkSession.builder.master(\"local[*]\").getOrCreate()"
      ],
      "execution_count": null,
      "outputs": []
    },
    {
      "cell_type": "code",
      "source": [
        "\n",
        "# # Create SparkSession from builder\n",
        "# import pyspark\n",
        "# from pyspark.sql import SparkSession\n",
        "# spark = SparkSession.builder.master(\"local[1]\") \\\n",
        "#                     .appName('SparkByExamples.com') \\\n",
        "#                     .getOrCreate()"
      ],
      "metadata": {
        "id": "G-yKQ5SnPR7e"
      },
      "execution_count": null,
      "outputs": []
    },
    {
      "cell_type": "code",
      "source": [
        "print(\"Spark Version: \" + spark.version)\n",
        "print(spark.sparkContext)\n",
        "print(spark.sparkContext.appName)"
      ],
      "metadata": {
        "colab": {
          "base_uri": "https://localhost:8080/"
        },
        "id": "RpMFuPu9ErqK",
        "outputId": "ba484439-dac3-4de3-acaf-f68f5e909030"
      },
      "execution_count": null,
      "outputs": [
        {
          "output_type": "stream",
          "name": "stdout",
          "text": [
            "Spark Version: 3.0.0\n",
            "<SparkContext master=local[*] appName=pyspark-shell>\n",
            "pyspark-shell\n"
          ]
        }
      ]
    },
    {
      "cell_type": "code",
      "source": [
        "df = spark.read.csv(\"BostonHousing.csv\", header=True)"
      ],
      "metadata": {
        "id": "IgCM9e9kDAum"
      },
      "execution_count": null,
      "outputs": []
    },
    {
      "cell_type": "code",
      "source": [
        "#Showing the top 5 rows.\n",
        "df.show(5)\n",
        "\n"
      ],
      "metadata": {
        "id": "F9xDUEdNPST8",
        "outputId": "b772b157-3d29-4a44-f315-bedba79daad4",
        "colab": {
          "base_uri": "https://localhost:8080/"
        }
      },
      "execution_count": null,
      "outputs": [
        {
          "output_type": "stream",
          "name": "stdout",
          "text": [
            "+-------+---+-----+----+-----+-----+----+------+---+---+-------+------+-----+----+\n",
            "|   crim| zn|indus|chas|  nox|   rm| age|   dis|rad|tax|ptratio|     b|lstat|medv|\n",
            "+-------+---+-----+----+-----+-----+----+------+---+---+-------+------+-----+----+\n",
            "|0.00632| 18| 2.31|   0|0.538|6.575|65.2|  4.09|  1|296|   15.3| 396.9| 4.98|  24|\n",
            "|0.02731|  0| 7.07|   0|0.469|6.421|78.9|4.9671|  2|242|   17.8| 396.9| 9.14|21.6|\n",
            "|0.02729|  0| 7.07|   0|0.469|7.185|61.1|4.9671|  2|242|   17.8|392.83| 4.03|34.7|\n",
            "|0.03237|  0| 2.18|   0|0.458|6.998|45.8|6.0622|  3|222|   18.7|394.63| 2.94|33.4|\n",
            "|0.06905|  0| 2.18|   0|0.458|7.147|54.2|6.0622|  3|222|   18.7| 396.9| 5.33|36.2|\n",
            "+-------+---+-----+----+-----+-----+----+------+---+---+-------+------+-----+----+\n",
            "only showing top 5 rows\n",
            "\n"
          ]
        }
      ]
    },
    {
      "cell_type": "code",
      "source": [],
      "metadata": {
        "id": "TNElFV1dQ-4s",
        "outputId": "e272031b-ad37-4671-cb60-ba06b2231246",
        "colab": {
          "base_uri": "https://localhost:8080/"
        }
      },
      "execution_count": null,
      "outputs": [
        {
          "output_type": "stream",
          "name": "stdout",
          "text": [
            "<SparkContext master=local[*] appName=pyspark-shell>\n",
            "Spark App Name : pyspark-shell\n"
          ]
        }
      ]
    },
    {
      "cell_type": "code",
      "source": [
        "#Counting the number of rows in the dataset.\n",
        "row_count = df.rdd.count()\n",
        "print(row_count)"
      ],
      "metadata": {
        "id": "qUp-ux9dQ_Cq",
        "colab": {
          "base_uri": "https://localhost:8080/"
        },
        "outputId": "78d38e44-2de6-45de-a968-762ab217fc08"
      },
      "execution_count": null,
      "outputs": [
        {
          "output_type": "stream",
          "name": "stdout",
          "text": [
            "506\n"
          ]
        }
      ]
    },
    {
      "cell_type": "code",
      "source": [
        "#Showing the schema of the dataset\n",
        "df.printSchema()\n"
      ],
      "metadata": {
        "id": "MvTVA9ZfQ_Lj",
        "outputId": "23ea25f7-c433-49ff-c537-1dfd978d2c56",
        "colab": {
          "base_uri": "https://localhost:8080/"
        }
      },
      "execution_count": null,
      "outputs": [
        {
          "output_type": "stream",
          "name": "stdout",
          "text": [
            "root\n",
            " |-- crim: string (nullable = true)\n",
            " |-- zn: string (nullable = true)\n",
            " |-- indus: string (nullable = true)\n",
            " |-- chas: string (nullable = true)\n",
            " |-- nox: string (nullable = true)\n",
            " |-- rm: string (nullable = true)\n",
            " |-- age: string (nullable = true)\n",
            " |-- dis: string (nullable = true)\n",
            " |-- rad: string (nullable = true)\n",
            " |-- tax: string (nullable = true)\n",
            " |-- ptratio: string (nullable = true)\n",
            " |-- b: string (nullable = true)\n",
            " |-- lstat: string (nullable = true)\n",
            " |-- medv: string (nullable = true)\n",
            "\n"
          ]
        }
      ]
    },
    {
      "cell_type": "code",
      "source": [
        "#Dropping the column 'b'\n",
        "df=df.drop('b')\n",
        "\n"
      ],
      "metadata": {
        "id": "MCwm_xeYQ_PT"
      },
      "execution_count": null,
      "outputs": []
    },
    {
      "cell_type": "code",
      "source": [
        "#Converting all the colums from string to double\n",
        "from pyspark.sql.functions import col\n",
        "df = df.select([col(c).cast(\"double\").alias(c) for c in df.columns])\n",
        "df.printSchema()"
      ],
      "metadata": {
        "colab": {
          "base_uri": "https://localhost:8080/"
        },
        "id": "wo2vAXLQSiga",
        "outputId": "8cb2a8bb-60fa-49ce-9c96-f83c9c537687"
      },
      "execution_count": null,
      "outputs": [
        {
          "output_type": "stream",
          "name": "stdout",
          "text": [
            "root\n",
            " |-- crim: double (nullable = true)\n",
            " |-- zn: double (nullable = true)\n",
            " |-- indus: double (nullable = true)\n",
            " |-- chas: double (nullable = true)\n",
            " |-- nox: double (nullable = true)\n",
            " |-- rm: double (nullable = true)\n",
            " |-- age: double (nullable = true)\n",
            " |-- dis: double (nullable = true)\n",
            " |-- rad: double (nullable = true)\n",
            " |-- tax: double (nullable = true)\n",
            " |-- ptratio: double (nullable = true)\n",
            " |-- lstat: double (nullable = true)\n",
            " |-- medv: double (nullable = true)\n",
            "\n"
          ]
        }
      ]
    },
    {
      "cell_type": "code",
      "source": [
        "#Converting numerical columns into two decimal place\n",
        "from pyspark.sql.functions import round as spark_round\n",
        "numeric_cols = [col_name for col_name, dtype in df.dtypes if dtype in ('int', 'double')]\n",
        "\n",
        "for col_name in numeric_cols:\n",
        "    df = df.withColumn(col_name, spark_round(col(col_name), 2))\n",
        "\n",
        "df.show(5)  # Display the first 5 rows to check rounding"
      ],
      "metadata": {
        "id": "bl4VfE_OQ_Sg",
        "colab": {
          "base_uri": "https://localhost:8080/"
        },
        "outputId": "379c5f72-a204-4d54-99f6-21b7ebfd34c1"
      },
      "execution_count": null,
      "outputs": [
        {
          "output_type": "stream",
          "name": "stdout",
          "text": [
            "+----+----+-----+----+----+----+----+----+---+-----+-------+-----+----+\n",
            "|crim|  zn|indus|chas| nox|  rm| age| dis|rad|  tax|ptratio|lstat|medv|\n",
            "+----+----+-----+----+----+----+----+----+---+-----+-------+-----+----+\n",
            "|0.01|18.0| 2.31| 0.0|0.54|6.58|65.2|4.09|1.0|296.0|   15.3| 4.98|24.0|\n",
            "|0.03| 0.0| 7.07| 0.0|0.47|6.42|78.9|4.97|2.0|242.0|   17.8| 9.14|21.6|\n",
            "|0.03| 0.0| 7.07| 0.0|0.47|7.19|61.1|4.97|2.0|242.0|   17.8| 4.03|34.7|\n",
            "|0.03| 0.0| 2.18| 0.0|0.46| 7.0|45.8|6.06|3.0|222.0|   18.7| 2.94|33.4|\n",
            "|0.07| 0.0| 2.18| 0.0|0.46|7.15|54.2|6.06|3.0|222.0|   18.7| 5.33|36.2|\n",
            "+----+----+-----+----+----+----+----+----+---+-----+-------+-----+----+\n",
            "only showing top 5 rows\n",
            "\n"
          ]
        }
      ]
    },
    {
      "cell_type": "code",
      "source": [
        "#Creating a new column Age10\n",
        "df = df.withColumn(\"Age10\", col(\"Age\") * 1.10)\n",
        "df.show(5)"
      ],
      "metadata": {
        "id": "FThcCSO5SikO",
        "colab": {
          "base_uri": "https://localhost:8080/"
        },
        "outputId": "2607b844-344c-4186-844b-7df3f6364251"
      },
      "execution_count": null,
      "outputs": [
        {
          "output_type": "stream",
          "name": "stdout",
          "text": [
            "+----+----+-----+----+----+----+----+----+---+-----+-------+-----+----+------------------+\n",
            "|crim|  zn|indus|chas| nox|  rm| age| dis|rad|  tax|ptratio|lstat|medv|             Age10|\n",
            "+----+----+-----+----+----+----+----+----+---+-----+-------+-----+----+------------------+\n",
            "|0.01|18.0| 2.31| 0.0|0.54|6.58|65.2|4.09|1.0|296.0|   15.3| 4.98|24.0| 71.72000000000001|\n",
            "|0.03| 0.0| 7.07| 0.0|0.47|6.42|78.9|4.97|2.0|242.0|   17.8| 9.14|21.6|             86.79|\n",
            "|0.03| 0.0| 7.07| 0.0|0.47|7.19|61.1|4.97|2.0|242.0|   17.8| 4.03|34.7| 67.21000000000001|\n",
            "|0.03| 0.0| 2.18| 0.0|0.46| 7.0|45.8|6.06|3.0|222.0|   18.7| 2.94|33.4|             50.38|\n",
            "|0.07| 0.0| 2.18| 0.0|0.46|7.15|54.2|6.06|3.0|222.0|   18.7| 5.33|36.2|59.620000000000005|\n",
            "+----+----+-----+----+----+----+----+----+---+-----+-------+-----+----+------------------+\n",
            "only showing top 5 rows\n",
            "\n"
          ]
        }
      ]
    },
    {
      "cell_type": "code",
      "source": [
        "#Converting to Pandas dataframe\n",
        "df_pd = df.toPandas()"
      ],
      "metadata": {
        "id": "HS5wq6n-Sino"
      },
      "execution_count": null,
      "outputs": []
    },
    {
      "cell_type": "code",
      "source": [
        "#Creating the histogram\n",
        "import matplotlib.pyplot as plt\n",
        "\n",
        "# Plot the 'Age10' column\n",
        "# Collect data for plotting\n",
        "age10_data = df.select(\"Age10\").toPandas()\n",
        "\n",
        "# Plotting\n",
        "plt.figure(figsize=(10, 6))\n",
        "plt.hist(age10_data[\"Age10\"], bins=30, color='blue', edgecolor='black')\n",
        "plt.title(\"Histogram of Age10\")\n",
        "plt.xlabel(\"Age10\")\n",
        "plt.ylabel(\"Frequency\")\n",
        "plt.grid(True)\n",
        "plt.show()"
      ],
      "metadata": {
        "id": "1G6-Cbw_TVJQ",
        "colab": {
          "base_uri": "https://localhost:8080/",
          "height": 564
        },
        "outputId": "e13f00b8-a5ed-47e2-d06a-68b794e313bb"
      },
      "execution_count": null,
      "outputs": [
        {
          "output_type": "display_data",
          "data": {
            "text/plain": [
              "<Figure size 1000x600 with 1 Axes>"
            ],
            "image/png": "[encoded data removed]"
          },
          "metadata": {}
        }
      ]
    },
    {
      "cell_type": "code",
      "source": [
        "#Summary Statistics\n",
        "summary_stats = df.describe()\n",
        "summary_stats.show()"
      ],
      "metadata": {
        "id": "d2NZPAF6TZmw",
        "colab": {
          "base_uri": "https://localhost:8080/"
        },
        "outputId": "3e09096a-1ef3-46dc-c683-c017d632bbef"
      },
      "execution_count": null,
      "outputs": [
        {
          "output_type": "stream",
          "name": "stdout",
          "text": [
            "+-------+------------------+------------------+------------------+------------------+------------------+------------------+------------------+------------------+-----------------+------------------+------------------+------------------+------------------+------------------+\n",
            "|summary|              crim|                zn|             indus|              chas|               nox|                rm|               age|               dis|              rad|               tax|           ptratio|             lstat|              medv|             Age10|\n",
            "+-------+------------------+------------------+------------------+------------------+------------------+------------------+------------------+------------------+-----------------+------------------+------------------+------------------+------------------+------------------+\n",
            "|  count|               506|               506|               506|               506|               506|               506|               506|               506|              506|               506|               506|               506|               506|               506|\n",
            "|   mean|3.6134189723320147|11.363636363636363|11.136778656126504|0.0691699604743083|0.5547628458498024| 6.285217391304348| 68.57490118577078| 3.795434782608693|9.549407114624506| 408.2371541501976|18.455533596837967|12.653063241106723|22.532806324110698| 75.43239130434783|\n",
            "| stddev| 8.601602243696705| 23.32245299451514| 6.860352940897589|0.2539940413404101|0.1155068172648583|0.7028533445424924|28.148861406903595|2.1057760049129106|8.707259384239366|168.53711605495903|2.1649455237144455| 7.141061511348571| 9.197104087379815| 30.96374754759397|\n",
            "|    min|              0.01|               0.0|              0.46|               0.0|              0.39|              3.56|               2.9|              1.13|              1.0|             187.0|              12.6|              1.73|               5.0|              3.19|\n",
            "|    max|             88.98|             100.0|             27.74|               1.0|              0.87|              8.78|             100.0|             12.13|             24.0|             711.0|              22.0|             37.97|              50.0|110.00000000000001|\n",
            "+-------+------------------+------------------+------------------+------------------+------------------+------------------+------------------+------------------+-----------------+------------------+------------------+------------------+------------------+------------------+\n",
            "\n"
          ]
        }
      ]
    },
    {
      "cell_type": "code",
      "source": [
        "# Show the last 5 rows of Pandas DataFrame\n",
        "pandas_df = df.toPandas()\n",
        "\n",
        "#Show the last 5 rows of Pandas DataFrame\n",
        "print(pandas_df.tail(5))"
      ],
      "metadata": {
        "colab": {
          "base_uri": "https://localhost:8080/"
        },
        "id": "zw7dTWRSQhcp",
        "outputId": "4b74961f-d5fb-43a3-b69a-abf086a240e7"
      },
      "execution_count": null,
      "outputs": [
        {
          "output_type": "stream",
          "name": "stdout",
          "text": [
            "     crim   zn  indus  chas   nox    rm   age   dis  rad    tax  ptratio  \\\n",
            "501  0.06  0.0  11.93   0.0  0.57  6.59  69.1  2.48  1.0  273.0     21.0   \n",
            "502  0.05  0.0  11.93   0.0  0.57  6.12  76.7  2.29  1.0  273.0     21.0   \n",
            "503  0.06  0.0  11.93   0.0  0.57  6.98  91.0  2.17  1.0  273.0     21.0   \n",
            "504  0.11  0.0  11.93   0.0  0.57  6.79  89.3  2.39  1.0  273.0     21.0   \n",
            "505  0.05  0.0  11.93   0.0  0.57  6.03  80.8  2.51  1.0  273.0     21.0   \n",
            "\n",
            "     lstat  medv   Age10  \n",
            "501   9.67  22.4   76.01  \n",
            "502   9.08  20.6   84.37  \n",
            "503   5.64  23.9  100.10  \n",
            "504   6.48  22.0   98.23  \n",
            "505   7.88  11.9   88.88  \n"
          ]
        }
      ]
    }
  ]
}