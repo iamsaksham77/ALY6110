{
  "nbformat": 4,
  "nbformat_minor": 0,
  "metadata": {
    "colab": {
      "provenance": [],
      "mount_file_id": "1mLvTkBv-xMUid23ioeVyJS4Kk8sn5JK8",
      "authorship_tag": "ABX9TyMCu2AYuQ4Js2f2TeBDy62h",
      "include_colab_link": true
    },
    "kernelspec": {
      "name": "python3",
      "display_name": "Python 3"
    },
    "language_info": {
      "name": "python"
    }
  },
  "cells": [
    {
      "cell_type": "markdown",
      "metadata": {
        "id": "view-in-github",
        "colab_type": "text"
      },
      "source": [
        "<a href=\"https://colab.research.google.com/github/iamsaksham77/ALY6110/blob/main/Module4_BostonHousing_Hive_EDA.ipynb\" target=\"_parent\"><img src=\"https://colab.research.google.com/assets/colab-badge.svg\" alt=\"Open In Colab\"/></a>"
      ]
    },
    {
      "cell_type": "code",
      "execution_count": null,
      "metadata": {
        "id": "eSBCkgHwsCDQ"
      },
      "outputs": [],
      "source": [
        "# innstall java\n",
        "!apt-get install openjdk-8-jdk-headless -qq > /dev/null\n",
        "\n",
        "# install spark (change the version number if needed)\n",
        "!wget -q https://archive.apache.org/dist/spark/spark-3.0.0/spark-3.0.0-bin-hadoop3.2.tgz\n",
        "\n",
        "# unzip the spark file to the current folder\n",
        "!tar xf spark-3.0.0-bin-hadoop3.2.tgz\n",
        "\n",
        "# set your spark folder to your system path environment.\n",
        "import os\n",
        "os.environ[\"JAVA_HOME\"] = \"/usr/lib/jvm/java-8-openjdk-amd64\"\n",
        "os.environ[\"SPARK_HOME\"] = \"/content/spark-3.0.0-bin-hadoop3.2\"\n",
        "\n",
        "\n",
        "# install findspark using pip\n",
        "!pip install -q findspark"
      ]
    },
    {
      "cell_type": "code",
      "source": [
        "import findspark\n",
        "findspark.init()\n",
        "from pyspark.sql import SparkSession\n",
        "spark = SparkSession.builder.master(\"local[*]\").getOrCreate()"
      ],
      "metadata": {
        "id": "Qrok7n5Tsr-D"
      },
      "execution_count": null,
      "outputs": []
    },
    {
      "cell_type": "code",
      "source": [
        "df = spark.read.csv(\"BostonHousing.csv\", header=True)"
      ],
      "metadata": {
        "id": "0ziYE7H5sxZF"
      },
      "execution_count": 4,
      "outputs": []
    },
    {
      "cell_type": "code",
      "source": [
        "#Showing the schema of the dataset\n",
        "df.printSchema()"
      ],
      "metadata": {
        "colab": {
          "base_uri": "https://localhost:8080/"
        },
        "id": "rMI4nUF0tPTc",
        "outputId": "ecce5b71-4639-4112-e849-3d8543c930e3"
      },
      "execution_count": 5,
      "outputs": [
        {
          "output_type": "stream",
          "name": "stdout",
          "text": [
            "root\n",
            " |-- crim: string (nullable = true)\n",
            " |-- zn: string (nullable = true)\n",
            " |-- indus: string (nullable = true)\n",
            " |-- chas: string (nullable = true)\n",
            " |-- nox: string (nullable = true)\n",
            " |-- rm: string (nullable = true)\n",
            " |-- age: string (nullable = true)\n",
            " |-- dis: string (nullable = true)\n",
            " |-- rad: string (nullable = true)\n",
            " |-- tax: string (nullable = true)\n",
            " |-- ptratio: string (nullable = true)\n",
            " |-- b: string (nullable = true)\n",
            " |-- lstat: string (nullable = true)\n",
            " |-- medv: string (nullable = true)\n",
            "\n"
          ]
        }
      ]
    },
    {
      "cell_type": "code",
      "source": [
        "#Converting all the colums from string to double\n",
        "from pyspark.sql.functions import col\n",
        "df = df.select([col(c).cast(\"double\").alias(c) for c in df.columns])\n",
        "df.printSchema()"
      ],
      "metadata": {
        "colab": {
          "base_uri": "https://localhost:8080/"
        },
        "id": "Jeh6dmGCtUFx",
        "outputId": "aedd6588-41f1-49a8-fd95-efdb94c10084"
      },
      "execution_count": 6,
      "outputs": [
        {
          "output_type": "stream",
          "name": "stdout",
          "text": [
            "root\n",
            " |-- crim: double (nullable = true)\n",
            " |-- zn: double (nullable = true)\n",
            " |-- indus: double (nullable = true)\n",
            " |-- chas: double (nullable = true)\n",
            " |-- nox: double (nullable = true)\n",
            " |-- rm: double (nullable = true)\n",
            " |-- age: double (nullable = true)\n",
            " |-- dis: double (nullable = true)\n",
            " |-- rad: double (nullable = true)\n",
            " |-- tax: double (nullable = true)\n",
            " |-- ptratio: double (nullable = true)\n",
            " |-- b: double (nullable = true)\n",
            " |-- lstat: double (nullable = true)\n",
            " |-- medv: double (nullable = true)\n",
            "\n"
          ]
        }
      ]
    },
    {
      "cell_type": "code",
      "source": [
        "# Step 2: Install PyHive and Thrift\n",
        "!pip install pyhive thrift"
      ],
      "metadata": {
        "colab": {
          "base_uri": "https://localhost:8080/"
        },
        "id": "LerXMBPntWs9",
        "outputId": "0f42e4d0-4a3f-45f1-b753-075d5f549ed0"
      },
      "execution_count": 7,
      "outputs": [
        {
          "output_type": "stream",
          "name": "stdout",
          "text": [
            "Collecting pyhive\n",
            "  Downloading PyHive-0.7.0.tar.gz (46 kB)\n",
            "\u001b[2K     \u001b[90m━━━━━━━━━━━━━━━━━━━━━━━━━━━━━━━━━━━━━━━━\u001b[0m \u001b[32m46.5/46.5 kB\u001b[0m \u001b[31m1.9 MB/s\u001b[0m eta \u001b[36m0:00:00\u001b[0m\n",
            "\u001b[?25h  Preparing metadata (setup.py) ... \u001b[?25l\u001b[?25hdone\n",
            "Collecting thrift\n",
            "  Downloading thrift-0.20.0.tar.gz (62 kB)\n",
            "\u001b[2K     \u001b[90m━━━━━━━━━━━━━━━━━━━━━━━━━━━━━━━━━━━━━━━━\u001b[0m \u001b[32m62.3/62.3 kB\u001b[0m \u001b[31m3.5 MB/s\u001b[0m eta \u001b[36m0:00:00\u001b[0m\n",
            "\u001b[?25h  Preparing metadata (setup.py) ... \u001b[?25l\u001b[?25hdone\n",
            "Requirement already satisfied: future in /usr/local/lib/python3.10/dist-packages (from pyhive) (0.18.3)\n",
            "Requirement already satisfied: python-dateutil in /usr/local/lib/python3.10/dist-packages (from pyhive) (2.8.2)\n",
            "Requirement already satisfied: six>=1.7.2 in /usr/local/lib/python3.10/dist-packages (from thrift) (1.16.0)\n",
            "Building wheels for collected packages: pyhive, thrift\n",
            "  Building wheel for pyhive (setup.py) ... \u001b[?25l\u001b[?25hdone\n",
            "  Created wheel for pyhive: filename=PyHive-0.7.0-py3-none-any.whl size=53872 sha256=18c532aff4fc8aae05ebd20a04baba90e2945633d1711dd6586727e160cc35c7\n",
            "  Stored in directory: /root/.cache/pip/wheels/d3/fc/31/6974270c69ccc5bf8f848e2e41b527d0e8f5b9b973696a29a9\n",
            "  Building wheel for thrift (setup.py) ... \u001b[?25l\u001b[?25hdone\n",
            "  Created wheel for thrift: filename=thrift-0.20.0-cp310-cp310-linux_x86_64.whl size=375009 sha256=b8d4c3da64a16d6231139f03402507295e91553259a20338859a411c684b19a7\n",
            "  Stored in directory: /root/.cache/pip/wheels/14/71/f9/849c9a9e9dbf246125223f9d12abc05fb72f56e7659c0dd5ff\n",
            "Successfully built pyhive thrift\n",
            "Installing collected packages: thrift, pyhive\n",
            "Successfully installed pyhive-0.7.0 thrift-0.20.0\n"
          ]
        }
      ]
    },
    {
      "cell_type": "code",
      "source": [
        "spark.sql(\"CREATE DATABASE IF NOT EXISTS BostonHousing\")\n",
        "spark.sql(\"USE BostonHousing\")"
      ],
      "metadata": {
        "colab": {
          "base_uri": "https://localhost:8080/"
        },
        "id": "4W1s3c5Dtj0s",
        "outputId": "ffa5b532-fb1a-44a6-f810-e07f8720a61f"
      },
      "execution_count": 9,
      "outputs": [
        {
          "output_type": "execute_result",
          "data": {
            "text/plain": [
              "DataFrame[]"
            ]
          },
          "metadata": {},
          "execution_count": 9
        }
      ]
    },
    {
      "cell_type": "code",
      "source": [
        "df.write.saveAsTable(\"Bostonhousingdataset\")"
      ],
      "metadata": {
        "id": "y-W_q5ovt1Jx"
      },
      "execution_count": 10,
      "outputs": []
    },
    {
      "cell_type": "code",
      "source": [
        "#1. Displaying the first 5 rows of the dataset.\n",
        "spark.sql(\"SELECT * FROM Bostonhousingdataset LIMIT 5\").show()"
      ],
      "metadata": {
        "colab": {
          "base_uri": "https://localhost:8080/"
        },
        "id": "bTeSPmXZt6Of",
        "outputId": "bfa514f2-4e8f-4a8b-e0dd-d41a111532d0"
      },
      "execution_count": 11,
      "outputs": [
        {
          "output_type": "stream",
          "name": "stdout",
          "text": [
            "+-------+----+-----+----+-----+-----+----+------+---+-----+-------+------+-----+----+\n",
            "|   crim|  zn|indus|chas|  nox|   rm| age|   dis|rad|  tax|ptratio|     b|lstat|medv|\n",
            "+-------+----+-----+----+-----+-----+----+------+---+-----+-------+------+-----+----+\n",
            "|0.00632|18.0| 2.31| 0.0|0.538|6.575|65.2|  4.09|1.0|296.0|   15.3| 396.9| 4.98|24.0|\n",
            "|0.02731| 0.0| 7.07| 0.0|0.469|6.421|78.9|4.9671|2.0|242.0|   17.8| 396.9| 9.14|21.6|\n",
            "|0.02729| 0.0| 7.07| 0.0|0.469|7.185|61.1|4.9671|2.0|242.0|   17.8|392.83| 4.03|34.7|\n",
            "|0.03237| 0.0| 2.18| 0.0|0.458|6.998|45.8|6.0622|3.0|222.0|   18.7|394.63| 2.94|33.4|\n",
            "|0.06905| 0.0| 2.18| 0.0|0.458|7.147|54.2|6.0622|3.0|222.0|   18.7| 396.9| 5.33|36.2|\n",
            "+-------+----+-----+----+-----+-----+----+------+---+-----+-------+------+-----+----+\n",
            "\n"
          ]
        }
      ]
    },
    {
      "cell_type": "code",
      "source": [
        "#2. Reporting the total number of records in the dataset.\n",
        "spark.sql(\"SELECT COUNT(*) FROM Bostonhousingdataset\").show()"
      ],
      "metadata": {
        "colab": {
          "base_uri": "https://localhost:8080/"
        },
        "id": "ahy1GBVLuMqP",
        "outputId": "75611611-6c0f-4a4b-e901-a8b263574a90"
      },
      "execution_count": 12,
      "outputs": [
        {
          "output_type": "stream",
          "name": "stdout",
          "text": [
            "+--------+\n",
            "|count(1)|\n",
            "+--------+\n",
            "|     506|\n",
            "+--------+\n",
            "\n"
          ]
        }
      ]
    },
    {
      "cell_type": "code",
      "source": [
        "#3. Showing statistics for the column medv\n",
        "spark.sql(\"SELECT AVG(medv) AS mean_medv, stddev(medv) AS standard_deviation_medv, min(medv) AS min_medv, max(medv) AS max_medv FROM Bostonhousingdataset\").show()"
      ],
      "metadata": {
        "colab": {
          "base_uri": "https://localhost:8080/"
        },
        "id": "K75Swhd-uYzU",
        "outputId": "e1de3e5e-35b4-46a3-a826-efca605965d3"
      },
      "execution_count": 18,
      "outputs": [
        {
          "output_type": "stream",
          "name": "stdout",
          "text": [
            "+------------------+-----------------------+--------+--------+\n",
            "|         mean_medv|standard_deviation_medv|min_medv|max_medv|\n",
            "+------------------+-----------------------+--------+--------+\n",
            "|22.532806324110698|      9.197104087379815|     5.0|    50.0|\n",
            "+------------------+-----------------------+--------+--------+\n",
            "\n"
          ]
        }
      ]
    },
    {
      "cell_type": "code",
      "source": [
        "#4. Mean of rm column\n",
        "spark.sql(\"SELECT AVG(rm) AS mean_rm FROM Bostonhousingdataset\").show()"
      ],
      "metadata": {
        "colab": {
          "base_uri": "https://localhost:8080/"
        },
        "id": "Bk_yETs9vwmc",
        "outputId": "6a49a69a-a587-4a4a-b70c-01a9907385ef"
      },
      "execution_count": 19,
      "outputs": [
        {
          "output_type": "stream",
          "name": "stdout",
          "text": [
            "+-----------------+\n",
            "|          mean_rm|\n",
            "+-----------------+\n",
            "|6.284634387351787|\n",
            "+-----------------+\n",
            "\n"
          ]
        }
      ]
    },
    {
      "cell_type": "code",
      "source": [
        "#5. Property with highest crime rate\n",
        "spark.sql(\"SELECT * FROM Bostonhousingdataset WHERE crim = (SELECT MAX(crim) FROM Bostonhousingdataset)\").show()"
      ],
      "metadata": {
        "colab": {
          "base_uri": "https://localhost:8080/"
        },
        "id": "k8TrdYWjv6h6",
        "outputId": "da5a0bb4-9b89-48da-e724-4aa05ae50a03"
      },
      "execution_count": 20,
      "outputs": [
        {
          "output_type": "stream",
          "name": "stdout",
          "text": [
            "+-------+---+-----+----+-----+-----+----+------+----+-----+-------+-----+-----+----+\n",
            "|   crim| zn|indus|chas|  nox|   rm| age|   dis| rad|  tax|ptratio|    b|lstat|medv|\n",
            "+-------+---+-----+----+-----+-----+----+------+----+-----+-------+-----+-----+----+\n",
            "|88.9762|0.0| 18.1| 0.0|0.671|6.968|91.9|1.4165|24.0|666.0|   20.2|396.9|17.21|10.4|\n",
            "+-------+---+-----+----+-----+-----+----+------+----+-----+-------+-----+-----+----+\n",
            "\n"
          ]
        }
      ]
    },
    {
      "cell_type": "code",
      "source": [
        "#6. Property with lowest median home value\n",
        "spark.sql(\"SELECT * FROM Bostonhousingdataset WHERE medv = (SELECT MIN(medv) FROM Bostonhousingdataset)\").show()"
      ],
      "metadata": {
        "colab": {
          "base_uri": "https://localhost:8080/"
        },
        "id": "VLaOvfcxwqq_",
        "outputId": "60742ef5-3c42-48fd-aa9f-d2996adf7ddd"
      },
      "execution_count": 21,
      "outputs": [
        {
          "output_type": "stream",
          "name": "stdout",
          "text": [
            "+-------+---+-----+----+-----+-----+-----+------+----+-----+-------+------+-----+----+\n",
            "|   crim| zn|indus|chas|  nox|   rm|  age|   dis| rad|  tax|ptratio|     b|lstat|medv|\n",
            "+-------+---+-----+----+-----+-----+-----+------+----+-----+-------+------+-----+----+\n",
            "|38.3518|0.0| 18.1| 0.0|0.693|5.453|100.0|1.4896|24.0|666.0|   20.2| 396.9|30.59| 5.0|\n",
            "|67.9208|0.0| 18.1| 0.0|0.693|5.683|100.0|1.4254|24.0|666.0|   20.2|384.97|22.98| 5.0|\n",
            "+-------+---+-----+----+-----+-----+-----+------+----+-----+-------+------+-----+----+\n",
            "\n"
          ]
        }
      ]
    },
    {
      "cell_type": "code",
      "source": [
        "#7. Histogram of Age column\n",
        "import matplotlib.pyplot as plt\n",
        "\n",
        "# Select the \"age\" column and collect it as a list\n",
        "ages = df.select(\"age\").rdd.flatMap(lambda x: x).collect()\n",
        "\n",
        "# Create a histogram of the ages\n",
        "plt.hist(ages, bins=20)\n",
        "plt.xlabel(\"Age\")\n",
        "plt.ylabel(\"Frequency\")\n",
        "plt.title(\"Histogram of Age\")\n",
        "plt.show()\n"
      ],
      "metadata": {
        "colab": {
          "base_uri": "https://localhost:8080/",
          "height": 472
        },
        "id": "L3U5MuGFwyyA",
        "outputId": "a2edfb3e-4de3-4418-ed70-65b3ca2eece6"
      },
      "execution_count": 23,
      "outputs": [
        {
          "output_type": "display_data",
          "data": {
            "text/plain": [
              "<Figure size 640x480 with 1 Axes>"
            ],
            "image/png": "[encoded data removed]"
          },
          "metadata": {}
        }
      ]
    },
    {
      "cell_type": "code",
      "source": [
        "#8.  Percentage of properties with a \"chas\" value of 1\n",
        "spark.sql(\"SELECT COUNT(IF(chas = 1, chas, NULL)) AS num_properties_with_chas_1, (COUNT(IF(chas = 1, chas, NULL))/COUNT(*)) * 100 AS percent_properties_with_chas_1  FROM Bostonhousingdataset\").show()"
      ],
      "metadata": {
        "colab": {
          "base_uri": "https://localhost:8080/"
        },
        "id": "pXNKVbMzx0R2",
        "outputId": "efc2dfbc-ab71-43d2-e97f-ab276b8e50e7"
      },
      "execution_count": 25,
      "outputs": [
        {
          "output_type": "stream",
          "name": "stdout",
          "text": [
            "+--------------------------+------------------------------+\n",
            "|num_properties_with_chas_1|percent_properties_with_chas_1|\n",
            "+--------------------------+------------------------------+\n",
            "|                        35|              6.91699604743083|\n",
            "+--------------------------+------------------------------+\n",
            "\n"
          ]
        }
      ]
    },
    {
      "cell_type": "code",
      "source": [
        "#9. Correlation between rm and medv\n",
        "spark.sql(\"SELECT corr(rm, medv) AS correlation_coefficient FROM Bostonhousingdataset\").show()"
      ],
      "metadata": {
        "colab": {
          "base_uri": "https://localhost:8080/"
        },
        "id": "8cn_Yynwy9Gn",
        "outputId": "94119b9d-1a99-4c0e-fc5a-15c3056cb1ba"
      },
      "execution_count": 26,
      "outputs": [
        {
          "output_type": "stream",
          "name": "stdout",
          "text": [
            "+-----------------------+\n",
            "|correlation_coefficient|\n",
            "+-----------------------+\n",
            "|     0.6953599470715401|\n",
            "+-----------------------+\n",
            "\n"
          ]
        }
      ]
    },
    {
      "cell_type": "code",
      "source": [
        "#10. Correlation between \"ptratio\" (pupil-teacher ratio) and \"nox\"\n",
        "spark.sql(\"SELECT corr(ptratio, nox) AS correlation_coefficient_pt_nox FROM Bostonhousingdataset\").show()"
      ],
      "metadata": {
        "colab": {
          "base_uri": "https://localhost:8080/"
        },
        "id": "lo9VYMJ2zW7G",
        "outputId": "2c6f2e75-3ed5-45b4-a7c2-aae7ca920a62"
      },
      "execution_count": 27,
      "outputs": [
        {
          "output_type": "stream",
          "name": "stdout",
          "text": [
            "+------------------------------+\n",
            "|correlation_coefficient_pt_nox|\n",
            "+------------------------------+\n",
            "|           0.18893267711276893|\n",
            "+------------------------------+\n",
            "\n"
          ]
        }
      ]
    },
    {
      "cell_type": "code",
      "source": [
        "#11. Displaying the top 5 neighbourhoods with highest median values\n",
        "spark.sql(\"SELECT * FROM Bostonhousingdataset ORDER BY medv DESC LIMIT 5\").show()"
      ],
      "metadata": {
        "colab": {
          "base_uri": "https://localhost:8080/"
        },
        "id": "bNFyrpou0Glb",
        "outputId": "7e6917ac-3272-452b-8b6a-09f38cda2ede"
      },
      "execution_count": 28,
      "outputs": [
        {
          "output_type": "stream",
          "name": "stdout",
          "text": [
            "+-------+----+-----+----+-----+-----+----+------+---+-----+-------+------+-----+----+\n",
            "|   crim|  zn|indus|chas|  nox|   rm| age|   dis|rad|  tax|ptratio|     b|lstat|medv|\n",
            "+-------+----+-----+----+-----+-----+----+------+---+-----+-------+------+-----+----+\n",
            "|1.51902| 0.0|19.58| 1.0|0.605|8.375|93.9| 2.162|5.0|403.0|   14.7|388.45| 3.32|50.0|\n",
            "|0.01381|80.0| 0.46| 0.0|0.422|7.875|32.0|5.6484|4.0|255.0|   14.4|394.23| 2.97|50.0|\n",
            "|2.01019| 0.0|19.58| 0.0|0.605|7.929|96.2|2.0459|5.0|403.0|   14.7| 369.3|  3.7|50.0|\n",
            "|1.83377| 0.0|19.58| 1.0|0.605|7.802|98.2|2.0407|5.0|403.0|   14.7|389.61| 1.92|50.0|\n",
            "|1.46336| 0.0|19.58| 0.0|0.605|7.489|90.8|1.9709|5.0|403.0|   14.7|374.43| 1.73|50.0|\n",
            "+-------+----+-----+----+-----+-----+----+------+---+-----+-------+------+-----+----+\n",
            "\n"
          ]
        }
      ]
    },
    {
      "cell_type": "code",
      "source": [
        "#12. Average property age for neighbourhoods with chas value 1 vs chas value 0\n",
        "spark.sql(\"SELECT AVG(IF(chas = 1, age, NULL)) AS avg_age_chas_1, AVG(IF(chas = 0, age, NULL)) AS avg_age_chas_0 FROM Bostonhousingdataset\").show()"
      ],
      "metadata": {
        "colab": {
          "base_uri": "https://localhost:8080/"
        },
        "id": "0sjTZ30P1L-j",
        "outputId": "f44fb0dc-9b10-4908-defc-0255fc221337"
      },
      "execution_count": 31,
      "outputs": [
        {
          "output_type": "stream",
          "name": "stdout",
          "text": [
            "+-----------------+-----------------+\n",
            "|   avg_age_chas_1|   avg_age_chas_0|\n",
            "+-----------------+-----------------+\n",
            "|77.50000000000001|67.91167728237794|\n",
            "+-----------------+-----------------+\n",
            "\n"
          ]
        }
      ]
    },
    {
      "cell_type": "code",
      "source": [
        "#13. Creating a hive view property_age_view\n",
        "spark.sql(\"create or replace view property_age_view as select age, medv FROM Bostonhousingdataset\")\n",
        "\n",
        "\n",
        "\n"
      ],
      "metadata": {
        "colab": {
          "base_uri": "https://localhost:8080/"
        },
        "id": "tadbXUKr2KJg",
        "outputId": "65165e4b-f5f9-48ec-d14c-1d6073df829e"
      },
      "execution_count": 47,
      "outputs": [
        {
          "output_type": "execute_result",
          "data": {
            "text/plain": [
              "DataFrame[]"
            ]
          },
          "metadata": {},
          "execution_count": 47
        }
      ]
    },
    {
      "cell_type": "code",
      "source": [
        "#Querying the view created.\n",
        "spark.sql(\"SELECT * FROM property_age_view LIMIT 5\").show()"
      ],
      "metadata": {
        "colab": {
          "base_uri": "https://localhost:8080/"
        },
        "id": "IzF4J0-v71d8",
        "outputId": "f264263d-95fe-4196-a6c7-545b7a982e80"
      },
      "execution_count": 48,
      "outputs": [
        {
          "output_type": "stream",
          "name": "stdout",
          "text": [
            "+----+----+\n",
            "| age|medv|\n",
            "+----+----+\n",
            "|65.2|24.0|\n",
            "|78.9|21.6|\n",
            "|61.1|34.7|\n",
            "|45.8|33.4|\n",
            "|54.2|36.2|\n",
            "+----+----+\n",
            "\n"
          ]
        }
      ]
    },
    {
      "cell_type": "code",
      "source": [
        "#14. Scatterplot between age and medv\n",
        "# Select the 'age' and 'medv' columns\n",
        "selected_columns = df.select('age', 'medv')\n",
        "\n",
        "# Convert the Spark DataFrame to a Pandas DataFrame\n",
        "pandas_df = selected_columns.toPandas()\n",
        "\n",
        "# Create a scatter plot\n",
        "plt.scatter(pandas_df['age'], pandas_df['medv'])\n",
        "plt.xlabel('Property Age')\n",
        "plt.ylabel('Median Value')\n",
        "plt.title('Scatter Plot of Property Age vs Median Value')\n",
        "plt.show()"
      ],
      "metadata": {
        "colab": {
          "base_uri": "https://localhost:8080/",
          "height": 472
        },
        "id": "7X8xL6rN9vs-",
        "outputId": "7861cf6b-c09f-4655-c990-7902017a1f12"
      },
      "execution_count": 49,
      "outputs": [
        {
          "output_type": "display_data",
          "data": {
            "text/plain": [
              "<Figure size 640x480 with 1 Axes>"
            ],
            "image/png": "[encoded data removed]"
          },
          "metadata": {}
        }
      ]
    },
    {
      "cell_type": "code",
      "source": [
        "#15. Properties with a \"crim\" value greater than 10\n",
        "spark.sql(\"SELECT * FROM Bostonhousingdataset WHERE crim > 10\").show()"
      ],
      "metadata": {
        "colab": {
          "base_uri": "https://localhost:8080/"
        },
        "id": "qGukC5mI-c7g",
        "outputId": "7d3d1403-5074-438a-f846-2cc270c6578a"
      },
      "execution_count": 50,
      "outputs": [
        {
          "output_type": "stream",
          "name": "stdout",
          "text": [
            "+-------+---+-----+----+-----+-----+-----+------+----+-----+-------+------+-----+----+\n",
            "|   crim| zn|indus|chas|  nox|   rm|  age|   dis| rad|  tax|ptratio|     b|lstat|medv|\n",
            "+-------+---+-----+----+-----+-----+-----+------+----+-----+-------+------+-----+----+\n",
            "|13.5222|0.0| 18.1| 0.0|0.631|3.863|100.0|1.5106|24.0|666.0|   20.2|131.42|13.33|23.1|\n",
            "|11.1081|0.0| 18.1| 0.0|0.668|4.906|100.0|1.1742|24.0|666.0|   20.2| 396.9|34.77|13.8|\n",
            "|18.4982|0.0| 18.1| 0.0|0.668|4.138|100.0| 1.137|24.0|666.0|   20.2| 396.9|37.97|13.8|\n",
            "|19.6091|0.0| 18.1| 0.0|0.671|7.313| 97.9|1.3163|24.0|666.0|   20.2| 396.9|13.44|15.0|\n",
            "| 15.288|0.0| 18.1| 0.0|0.671|6.649| 93.3|1.3449|24.0|666.0|   20.2|363.02|23.24|13.9|\n",
            "|23.6482|0.0| 18.1| 0.0|0.671| 6.38| 96.2|1.3861|24.0|666.0|   20.2| 396.9|23.69|13.1|\n",
            "|17.8667|0.0| 18.1| 0.0|0.671|6.223|100.0|1.3861|24.0|666.0|   20.2|393.74|21.78|10.2|\n",
            "|88.9762|0.0| 18.1| 0.0|0.671|6.968| 91.9|1.4165|24.0|666.0|   20.2| 396.9|17.21|10.4|\n",
            "|15.8744|0.0| 18.1| 0.0|0.671|6.545| 99.1|1.5192|24.0|666.0|   20.2| 396.9|21.08|10.9|\n",
            "|20.0849|0.0| 18.1| 0.0|  0.7|4.368| 91.2|1.4395|24.0|666.0|   20.2|285.83|30.63| 8.8|\n",
            "|16.8118|0.0| 18.1| 0.0|  0.7|5.277| 98.1|1.4261|24.0|666.0|   20.2| 396.9|30.81| 7.2|\n",
            "|24.3938|0.0| 18.1| 0.0|  0.7|4.652|100.0|1.4672|24.0|666.0|   20.2| 396.9|28.28|10.5|\n",
            "|22.5971|0.0| 18.1| 0.0|  0.7|  5.0| 89.5|1.5184|24.0|666.0|   20.2| 396.9|31.99| 7.4|\n",
            "|14.3337|0.0| 18.1| 0.0|  0.7| 4.88|100.0|1.5895|24.0|666.0|   20.2|372.92|30.62|10.2|\n",
            "|11.5779|0.0| 18.1| 0.0|  0.7|5.036| 97.0|  1.77|24.0|666.0|   20.2| 396.9|25.68| 9.7|\n",
            "|13.3598|0.0| 18.1| 0.0|0.693|5.887| 94.7|1.7821|24.0|666.0|   20.2| 396.9|16.35|12.7|\n",
            "|38.3518|0.0| 18.1| 0.0|0.693|5.453|100.0|1.4896|24.0|666.0|   20.2| 396.9|30.59| 5.0|\n",
            "|25.0461|0.0| 18.1| 0.0|0.693|5.987|100.0|1.5888|24.0|666.0|   20.2| 396.9|26.77| 5.6|\n",
            "|14.2362|0.0| 18.1| 0.0|0.693|6.343|100.0|1.5741|24.0|666.0|   20.2| 396.9|20.32| 7.2|\n",
            "|24.8017|0.0| 18.1| 0.0|0.693|5.349| 96.0|1.7028|24.0|666.0|   20.2| 396.9|19.77| 8.3|\n",
            "+-------+---+-----+----+-----+-----+-----+------+----+-----+-------+------+-----+----+\n",
            "only showing top 20 rows\n",
            "\n"
          ]
        }
      ]
    },
    {
      "cell_type": "code",
      "source": [
        "#Hypothesis Testing\n",
        "#Null Hypothesis: There exists no relationship between the variables rm and medv.\n",
        "#Alternate Hypothesis: There exists a linear relationship between the variables rm and medv.\n",
        "\n",
        "spark.sql(\"WITH stats AS (SELECT avg(medv) AS avg_medv, avg(rm) AS avg_rm, var_pop(rm) AS var_rm, covar_pop(rm, medv) AS covar_rm_medv FROM Bostonhousingdataset) SELECT covar_rm_medv/var_rm as slope, avg_medv - (covar_rm_medv / var_rm) * avg_rm AS intercept FROM stats\").show()"
      ],
      "metadata": {
        "colab": {
          "base_uri": "https://localhost:8080/"
        },
        "id": "T6kb9AsJBZUK",
        "outputId": "645f710a-e01e-48fa-f24d-e4205435a3ed"
      },
      "execution_count": 57,
      "outputs": [
        {
          "output_type": "stream",
          "name": "stdout",
          "text": [
            "+----------------+------------------+\n",
            "|           slope|         intercept|\n",
            "+----------------+------------------+\n",
            "|9.10210898118032|-34.67062077643868|\n",
            "+----------------+------------------+\n",
            "\n"
          ]
        }
      ]
    }
  ]
}